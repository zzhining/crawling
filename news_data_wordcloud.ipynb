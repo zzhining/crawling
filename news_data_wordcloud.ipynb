{
  "nbformat": 4,
  "nbformat_minor": 0,
  "metadata": {
    "colab": {
      "private_outputs": true,
      "provenance": [],
      "authorship_tag": "ABX9TyMYS+FQfH3tjFRiOekJz3CK",
      "include_colab_link": true
    },
    "kernelspec": {
      "name": "python3",
      "display_name": "Python 3"
    },
    "language_info": {
      "name": "python"
    }
  },
  "cells": [
    {
      "cell_type": "markdown",
      "metadata": {
        "id": "view-in-github",
        "colab_type": "text"
      },
      "source": [
        "<a href=\"https://colab.research.google.com/github/zzhining/crawling/blob/main/news_data_wordcloud.ipynb\" target=\"_parent\"><img src=\"https://colab.research.google.com/assets/colab-badge.svg\" alt=\"Open In Colab\"/></a>"
      ]
    },
    {
      "cell_type": "markdown",
      "source": [
        "# 환경설정"
      ],
      "metadata": {
        "id": "tvw217wmHirC"
      }
    },
    {
      "cell_type": "code",
      "source": [
        "# 한국어 텍스트 전처리를 위한 konlpy 패키지 설치\n",
        "!pip install konlpy"
      ],
      "metadata": {
        "id": "CN7RhdMCHZ-c"
      },
      "execution_count": null,
      "outputs": []
    },
    {
      "cell_type": "code",
      "source": [
        "# 한글 폰트(나눔 폰트) 설치\n",
        "!sudo apt-get install -y fonts-nanum"
      ],
      "metadata": {
        "id": "viIKkKQeHgae"
      },
      "execution_count": null,
      "outputs": []
    },
    {
      "cell_type": "code",
      "execution_count": null,
      "metadata": {
        "id": "U_8WSzZ3G5iU"
      },
      "outputs": [],
      "source": [
        "# 워드 클라우드를 만들기 위한 작업\n",
        "import matplotlib.pyplot as plt\n",
        "from collections import Counter\n",
        "from konlpy.tag import Okt\n",
        "article = '''\n",
        "20일 아시아 주요 증시는 보합권에서 등락이 엇갈렸다.\n",
        "\n",
        "이날 일본 도쿄의 닛케이225지수는 전날보다 0.18% 오른 2만8657.57에 거래를 마쳤다.\n",
        "\n",
        "일본 증시는 이날 뚜렷한 방향을 찾지 못한 채 보합권에서 상승과 하락을 반복하다가 정부의 정책 기대 속에 반도체주 상승에 힘입어 오름세로 마감했다고 니혼게이자이는 전했다.\n",
        "\n",
        "매체에 따르면 기시다 후미오 일본 총리는 외국인투자 촉진을 위해 반도체 등 분야에서 공급망 구축의 수치 목표를 담은 액션 플랜을 이달 안에 발표할 예정으로 알려졌다. 이에 일본의 대표적인 반도체 장비업체 도쿄일렉트론이 1.75% 오르는 등 반도체 업종이 강세를 보이며 지수를 밀어올렸다.\n",
        "\n",
        "중화권에선 본토 상하이종합지수가 전일 대비 0.09% 하락한 3367.03에, 대만 자취안지수가 0.62% 내린 1만5770.47에 각각 마감했다. 반면 홍콩 항셍지수는 0.14% 오른 2만396.97에 장을 종료했다.\n",
        "\n",
        "한편 이날 중국 인민은행은 사실상 기준금리인 대출우대금리(LPR)를 동결했다. 지난해 8월 5bp(1bp=0.01%포인트) 내린 이후 8개월 연속 동결이다. 예상됐던 결과로 시장에 별다른 영향은 없었다.'''\n",
        "\n",
        "article"
      ]
    },
    {
      "cell_type": "code",
      "source": [
        "# 기사의 내용을 토큰으로 만들기\n",
        "okt = Okt()\n",
        "tokens = okt.nouns(article)\n",
        "counted_tokens = Counter(tokens)\n",
        "top_20 = counted_tokens.most_common(20)\n",
        "print(top_20)"
      ],
      "metadata": {
        "id": "PK-oOlePI3G9"
      },
      "execution_count": null,
      "outputs": []
    },
    {
      "cell_type": "code",
      "source": [
        "from wordcloud import WordCloud\n",
        "wc = WordCloud(background_color='white', font_path='NanumBarunGothic.ttf')\n",
        "wc.generate_from_frequencies(counted_tokens)\n",
        "figure = plt.figure()\n",
        "figure.set_size_inches(10, 10)\n",
        "ax = figure.add_subplot(1, 1, 1)\n",
        "ax.axis(\"off\")\n",
        "ax.imshow(wc)"
      ],
      "metadata": {
        "id": "XV9WotvdH0S9"
      },
      "execution_count": null,
      "outputs": []
    },
    {
      "cell_type": "code",
      "source": [],
      "metadata": {
        "id": "1Ol__vmOIBOU"
      },
      "execution_count": null,
      "outputs": []
    }
  ]
}