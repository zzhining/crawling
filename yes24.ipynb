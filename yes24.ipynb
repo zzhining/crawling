{
 "cells": [
  {
   "cell_type": "markdown",
   "id": "147a04c1",
   "metadata": {},
   "source": [
    "# yes24 데이터 수집\n",
    "\n",
    "---"
   ]
  },
  {
   "cell_type": "markdown",
   "id": "7d97f59e",
   "metadata": {},
   "source": [
    "## 목표"
   ]
  },
  {
   "cell_type": "markdown",
   "id": "5b153e6e",
   "metadata": {},
   "source": [
    "<b>[과제 설명]</b>\n",
    "\n",
    "yes24(http://www.yes24.com/) 사이트의 베스트셀러 페이지에서<br>\n",
    "국내도서 베스트셀러 순위 1-10위 책에 대해<br>\n",
    "<b>순위, 제목, 저자, 출판사, 판매가, 출간일</b>을 프린트하시오.<br>\n",
    "-----\n",
    "<b>[출력 예시]</b><br>    \n",
    "1. 제목: 트렌드 코리아 2024, 저자: 김난도, 전미영, 최지혜, 이수진, 권정윤 외 6명, 출판사: 미래의창, 판매가: 17,100원, 출간일: 2023년 10월 05일<br>\n",
    "2. ........................<br>\n",
    "3. ........................<br>\n",
    "4. ....................<br>\n",
    "5. ...................<br>"
   ]
  },
  {
   "cell_type": "markdown",
   "id": "3ba20854",
   "metadata": {},
   "source": [
    "## selenium 설치"
   ]
  },
  {
   "cell_type": "code",
   "execution_count": 1,
   "id": "01b068ed",
   "metadata": {},
   "outputs": [],
   "source": [
    "# !pip install selenium"
   ]
  },
  {
   "cell_type": "markdown",
   "id": "4e88dd47",
   "metadata": {},
   "source": [
    "## 베스트 셀러 페이지(html) 읽어오기"
   ]
  },
  {
   "cell_type": "code",
   "execution_count": 2,
   "id": "a9a381cc",
   "metadata": {},
   "outputs": [],
   "source": [
    "import requests\n",
    "\n",
    "base_url = 'https://www.yes24.com'\n",
    "bestseller_url = '/Product/Category/BestSeller'\n",
    "URL = base_url + bestseller_url\n",
    "main_html = requests.get(URL)"
   ]
  },
  {
   "cell_type": "markdown",
   "id": "0fd14df9",
   "metadata": {},
   "source": [
    "## html 파싱하기\n",
    "\n",
    "- 파서: lxml로 설정"
   ]
  },
  {
   "cell_type": "code",
   "execution_count": 3,
   "id": "43858b50",
   "metadata": {},
   "outputs": [],
   "source": [
    "from bs4 import BeautifulSoup\n",
    "\n",
    "soup = BeautifulSoup(main_html.text, 'lxml')"
   ]
  },
  {
   "cell_type": "markdown",
   "id": "8c1ce1c5",
   "metadata": {},
   "source": [
    "### 도서 상세 페이지 URL 파싱"
   ]
  },
  {
   "cell_type": "code",
   "execution_count": 4,
   "id": "d72b3339",
   "metadata": {},
   "outputs": [],
   "source": [
    "a_list = soup.find_all('a', {'class': 'lnk_img'})"
   ]
  },
  {
   "cell_type": "markdown",
   "id": "569fbe3d",
   "metadata": {},
   "source": [
    "### 도서 상세 페이지 읽어오기 & 정보 파싱하여 출력하기"
   ]
  },
  {
   "cell_type": "code",
   "execution_count": 5,
   "id": "3fe873d5",
   "metadata": {},
   "outputs": [],
   "source": [
    "# 조건에 맞게 저자 이름 파싱\n",
    "def getWriterName(writerInfo):\n",
    "    splited_writer = writerInfo.split('/')\n",
    "    writer = splited_writer[0]\n",
    "    list = [' 저', ' 원저', ' 글', ' 편']\n",
    "    for word in list:\n",
    "        writer = writer.replace(word, '')\n",
    "    return writer\n",
    "\n",
    "# 가격 정보를 파싱하는 함수\n",
    "def getPrice(soup):\n",
    "    price_selector_list = ['#yDetailTopWrap > div.topColRgt > div.gd_infoBot > div.gd_infoTbArea > \\\n",
    "                            div:nth-child(4) > table > tbody > tr:nth-child(2) > td > span > em',\n",
    "                           '#yDetailTopWrap > div.topColRgt > div.gd_infoBot > div.gd_infoTbArea > \\\n",
    "                           div:nth-child(3) > table > tbody > tr:nth-child(2) > td > span > em']\n",
    "        \n",
    "    for selector in price_selector_list:\n",
    "        price = soup.select(selector)\n",
    "        if len(price) > 0:\n",
    "            return price[0].text\n",
    "    return '0'\n",
    "\n",
    "# 책정보(제목, 저자, 출판사, 판매가, 출간일)를 파싱하는 함수\n",
    "def getBookInfo(book_html):\n",
    "    soup_book = BeautifulSoup(book_html.text, 'lxml')\n",
    "    # 제목\n",
    "    title = soup_book.find('h2', {'class': 'gd_name'}).text.strip()\n",
    "    \n",
    "    # 저자\n",
    "    writerInfo = soup_book.find('span', {'class': 'gd_auth'}).text.strip().split('\\n')[0].strip()\n",
    "    writer = getWriterName(writerInfo)\n",
    "    \n",
    "    # 출판사\n",
    "    publisher = soup_book.find('span', {'class': 'gd_pub'}).text.strip()\n",
    "    \n",
    "    # 판매가\n",
    "    price = getPrice(soup_book)\n",
    "    \n",
    "    # 출간일\n",
    "    date = soup_book.find('span', {'class': 'gd_date'}).text.strip()\n",
    "    book_info = ('제목: {0}, 저자: {1}, 출판사: {2}, 판매가: {3}원, 출간일: {4}').format(title, writer, publisher, price, date)\n",
    "    return book_info"
   ]
  },
  {
   "cell_type": "code",
   "execution_count": 6,
   "id": "8b7ced7a",
   "metadata": {},
   "outputs": [
    {
     "name": "stdout",
     "output_type": "stream",
     "text": [
      "1.제목: 퓨처 셀프, 저자: 벤저민 하디, 출판사: 상상스퀘어, 판매가: 17,820원, 출간일: 2023년 08월 30일\n",
      "2.제목: 트렌드 코리아 2024, 저자: 김난도, 전미영, 최지혜, 이수진, 권정윤 외 6명, 출판사: 미래의창, 판매가: 17,100원, 출간일: 2023년 10월 05일\n",
      "3.제목: 시대예보: 핵개인의 시대, 저자: 송길영, 출판사: 교보문고, 판매가: 18,900원, 출간일: 2023년 09월 25일\n",
      "4.제목: 세이노의 가르침, 저자: 세이노(SayNo), 출판사: 데이원, 판매가: 6,480원, 출간일: 2023년 03월 02일\n",
      "5.제목: 도시와 그 불확실한 벽, 저자: 무라카미 하루키, 출판사: 문학동네, 판매가: 17,550원, 출간일: 2023년 09월 06일\n",
      "6.제목: 파견자들, 저자: 김초엽, 출판사: 퍼블리온, 판매가: 17,100원, 출간일: 2023년 10월 13일\n",
      "7.제목: 도둑맞은 집중력, 저자: 요한 하리, 출판사: 어크로스, 판매가: 16,920원, 출간일: 2023년 04월 28일\n",
      "8.제목: 2024 틴틴팅클 애착일력, 저자: 난, 출판사: 위즈덤하우스, 판매가: 21,600원, 출간일: 2023년 11월 08일\n",
      "9.제목: 올웨더 투자법, 저자: 판교불패, 출판사: 알에이치코리아(RHK), 판매가: 19,800원, 출간일: 2023년 10월 18일\n",
      "10.제목: 흔한남매 14, 저자: 흔한남매, 출판사: 미래엔아이세움, 판매가: 13,050원, 출간일: 2023년 09월 21일\n"
     ]
    }
   ],
   "source": [
    "# 국내도서 베스트셀러 10위 정보 출력\n",
    "num = 10\n",
    "\n",
    "for index in range(num):\n",
    "    # 도서 상세 페이지 읽어오기\n",
    "    href = a_list[index].get('href')\n",
    "    book_url = base_url + href\n",
    "    book_html = requests.get(book_url)\n",
    "\n",
    "    # index+1번째 책의 상세정보 파싱하여 출력하기\n",
    "    result = getBookInfo(book_html)\n",
    "    index = index + 1\n",
    "    print(str(index) + '.' + result)    "
   ]
  }
 ],
 "metadata": {
  "kernelspec": {
   "display_name": "Python 3 (ipykernel)",
   "language": "python",
   "name": "python3"
  },
  "language_info": {
   "codemirror_mode": {
    "name": "ipython",
    "version": 3
   },
   "file_extension": ".py",
   "mimetype": "text/x-python",
   "name": "python",
   "nbconvert_exporter": "python",
   "pygments_lexer": "ipython3",
   "version": "3.11.5"
  }
 },
 "nbformat": 4,
 "nbformat_minor": 5
}
