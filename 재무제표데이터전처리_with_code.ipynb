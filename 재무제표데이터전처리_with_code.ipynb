{
  "nbformat": 4,
  "nbformat_minor": 0,
  "metadata": {
    "colab": {
      "private_outputs": true,
      "provenance": [],
      "toc_visible": true,
      "authorship_tag": "ABX9TyNOmDOi7M8HZuhJK3/YXDBy",
      "include_colab_link": true
    },
    "kernelspec": {
      "name": "python3",
      "display_name": "Python 3"
    },
    "language_info": {
      "name": "python"
    }
  },
  "cells": [
    {
      "cell_type": "markdown",
      "metadata": {
        "id": "view-in-github",
        "colab_type": "text"
      },
      "source": [
        "<a href=\"https://colab.research.google.com/github/zzhining/crawling/blob/main/%EC%9E%AC%EB%AC%B4%EC%A0%9C%ED%91%9C%EB%8D%B0%EC%9D%B4%ED%84%B0%EC%A0%84%EC%B2%98%EB%A6%AC_with_code.ipynb\" target=\"_parent\"><img src=\"https://colab.research.google.com/assets/colab-badge.svg\" alt=\"Open In Colab\"/></a>"
      ]
    },
    {
      "cell_type": "code",
      "execution_count": null,
      "metadata": {
        "id": "ENFZtjp2iaam"
      },
      "outputs": [],
      "source": [
        "pip install OpenDartReader"
      ]
    },
    {
      "cell_type": "code",
      "source": [
        "import OpenDartReader # 모듈 불러오기\n",
        "my_api = \"apikey\" # API KEY 지정\n",
        "dart = OpenDartReader(my_api) # OpenDartReader 객체 생성하기"
      ],
      "metadata": {
        "id": "YAkWN6m3ibcZ"
      },
      "execution_count": null,
      "outputs": []
    },
    {
      "cell_type": "markdown",
      "source": [
        "# 재무제표 가져오기\n",
        "특정 기업(삼성전자)의 2023년 재무제표 가져오기"
      ],
      "metadata": {
        "id": "WlIEEzn5jD8l"
      }
    },
    {
      "cell_type": "code",
      "source": [
        "df = dart.finstate(\"삼성전자\", 2023)\n",
        "df.head()"
      ],
      "metadata": {
        "id": "bn2OdwPhifp-"
      },
      "execution_count": null,
      "outputs": []
    },
    {
      "cell_type": "markdown",
      "source": [
        "# 필요한 정보만 가져오기\n",
        "\n",
        "1. `account_nm` 컬럼의 값이 `['자산총계', '부채총계', '자본총계', '매출액', '영업이익', '당기순이익']`인 인스턴스만 추출\n",
        "2. `[\"bsns_year\", \"account_nm\", \"fs_nm\", \"thstrm_amount\", \"frmtrm_amount\", \"bfefrmtrm_amount\"] `컬럼만 추출"
      ],
      "metadata": {
        "id": "oHb1Q0I3jWFJ"
      }
    },
    {
      "cell_type": "code",
      "source": [
        "ind_list = ['자산총계', '부채총계', '자본총계', '매출액', '영업이익', '당기순이익']\n",
        "df = df.loc[df[\"account_nm\"].isin(ind_list), [\"bsns_year\", \"account_nm\", \"fs_nm\", \"thstrm_amount\", \"frmtrm_amount\", \"bfefrmtrm_amount\"]]\n",
        "df"
      ],
      "metadata": {
        "id": "eliiZ28NjNyR"
      },
      "execution_count": null,
      "outputs": []
    },
    {
      "cell_type": "markdown",
      "source": [
        "3. `fs_nm`이 `연결재무제표`와 `재무제표` 두 종류가 있는 경우, `연결재무제표`만 남기기"
      ],
      "metadata": {
        "id": "XWNmQLZckLOp"
      }
    },
    {
      "cell_type": "code",
      "source": [
        "df = df[df['fs_nm'] == '연결재무제표']\n",
        "df"
      ],
      "metadata": {
        "id": "iiR7-q8ekHPx"
      },
      "execution_count": null,
      "outputs": []
    },
    {
      "cell_type": "markdown",
      "source": [
        "# 컬럼명 변경\n",
        "- 수집한 재무제표 연도에 기초해서 연도로 컬럼명 변경 <br>\n",
        "(예): `bsns_year`= 2023년 재무제표 수집한 경우,\n",
        "    - `thstrm_amount`: 당기금액(2023)\n",
        "    - `frmtrm_amount`: 전기금액(2022)\n",
        "    - `bfefrmtrm_amount`: 전전기금액(2021)"
      ],
      "metadata": {
        "id": "dUz2-TpCkZj9"
      }
    },
    {
      "cell_type": "code",
      "source": [
        "year = df['bsns_year'].values[0]\n",
        "# df = df.rename(columns ={'thstrm_amount': '2023', 'frmtrm_amount': '2022', 'bfefrmtrm_amount': '2021'})\n",
        "df = df.rename(columns ={'thstrm_amount': year, 'frmtrm_amount': str(int(year)-1), 'bfefrmtrm_amount': str(int(year)-2)})\n",
        "df.head()"
      ],
      "metadata": {
        "id": "hcyWUZzBkXRU"
      },
      "execution_count": null,
      "outputs": []
    },
    {
      "cell_type": "markdown",
      "source": [
        "# 불필요한 컬럼 제거\n",
        "`bsns_year`, `fs_nm` 컬럼 삭제"
      ],
      "metadata": {
        "id": "kr3FUx4alZaN"
      }
    },
    {
      "cell_type": "code",
      "source": [
        "df = df.drop(['bsns_year', 'fs_nm'], axis=1)\n",
        "df.head()"
      ],
      "metadata": {
        "id": "bCSiKNNolDwE"
      },
      "execution_count": null,
      "outputs": []
    },
    {
      "cell_type": "markdown",
      "source": [
        "# 데이터 프레임 구조 변경\n",
        "- `연도`,\t`자산총계`,\t`부채총계`,\t`자본총계`,\t`매출액`,\t`영업이익`,\t`당기순이익`의 컬럼을 갖도록 데이터 구조 변경\n",
        "![image.png](data:image/png;base64,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)\n",
        "- `연도`순(과거 데이터가 위에 위치하도록) 정렬\n",
        "\n"
      ],
      "metadata": {
        "id": "WOkFb8odly_I"
      }
    },
    {
      "cell_type": "code",
      "source": [
        "df = df.set_index('account_nm').T.reset_index().rename(columns = {'index': '연도'})\n",
        "df = df.sort_values('연도')\n",
        "df"
      ],
      "metadata": {
        "id": "7L2mXS4Rlp_R"
      },
      "execution_count": null,
      "outputs": []
    },
    {
      "cell_type": "markdown",
      "source": [
        "# 데이터 변환\n",
        "`['자산총계', '부채총계', '자본총계', '매출액', '영업이익', '당기순이익']` 컬럼의 데이터에 포함된 콤마(,)를 제거하고, 실수(float)형으로 변환"
      ],
      "metadata": {
        "id": "pQS2rqyUmyn3"
      }
    },
    {
      "cell_type": "code",
      "source": [
        "for ind in ind_list:\n",
        "    df[ind] = df[ind].apply(lambda x: x.replace(',', '')).astype(float)\n",
        "df.head()"
      ],
      "metadata": {
        "id": "6lu0b-KoipCP"
      },
      "execution_count": null,
      "outputs": []
    },
    {
      "cell_type": "markdown",
      "source": [
        "# 신규 컬럼 생성\n",
        "\n",
        "1. `부채비율` = `부채총계` / `자본총계` * 100\n",
        "2. `매출액증가율` = (당해연도 매출액 - 전년도 매출액) / (전년도 매출액) * 100\n",
        "3. `영업이익증가율` = (당해연도 영업이익 - 전년도 영업이익) / (전년도 영업이익) * 100\n",
        "3. `당기순이익증가율` = (당해연도 당기순이익 - 전년도 당기순이익) / (전년도 당기순이익) * 100\n",
        "4. `ROA` = `당기순이익` / `자산총계` * 100\n",
        "5. `ROE` = `당기순이익` / `평균자기자본`<br>\n",
        "    `평균자기자본` = 당해연도 자본총계와 이전연도 자본총계의 평균"
      ],
      "metadata": {
        "id": "JbN8x0BunObl"
      }
    },
    {
      "cell_type": "code",
      "source": [
        "df['부채비율'] = df['부채총계'] / df['자본총계'] * 100\n",
        "df['매출액증가율'] = (df['매출액'].diff() / df['매출액'].shift(1)) * 100\n",
        "df['영업이익증가율'] = (df['영업이익'].diff() / df['영업이익'].shift(1)) * 10\n",
        "df['당기순이익증가율'] = (df['당기순이익'].diff() / df['당기순이익'].shift(1)) * 100\n",
        "df['ROA'] = (df['당기순이익'] / df['자산총계']) * 100\n",
        "average_equity = df['자본총계'].rolling(2).mean() # 평균 자기 자본\n",
        "df['ROE'] = (df['당기순이익'] / average_equity) * 100\n",
        "df"
      ],
      "metadata": {
        "id": "Qq4LH70pisbg"
      },
      "execution_count": null,
      "outputs": []
    },
    {
      "cell_type": "markdown",
      "source": [
        "`매출액`, `영업이익`, `당기순이익`에 대해 `[흑자지속, 적자지속, 흑자전환, 적자전환]` 상태로 표시\n",
        "- 신규 컬럼 생성: 예) `매출액 상태`\n",
        "- 당해연도 증가율과 이전년도 증가율의 값을 기초로 판단\n",
        "    - 예) (2022년 매출액 증가율 > 0) and (2023년 매출액 증가율 > 0) : 2023년의 `매출액 상태`는 `흑자지속`\n"
      ],
      "metadata": {
        "id": "W8je_WeNpQBd"
      }
    },
    {
      "cell_type": "code",
      "source": [
        "def add_finnce_state(data, col):\n",
        "    data[col + \"_상태\"] = np.nan # 상태를 결측으로 초기화\n",
        "    states = []\n",
        "    values = data[col].values\n",
        "\n",
        "    for i in range(len(values)):\n",
        "        if i == 0:\n",
        "            states.append('-')\n",
        "        else:\n",
        "            pre_value = values[i-1]\n",
        "            cur_value = values[i]\n",
        "\n",
        "            if cur_value > 0:\n",
        "                if pre_value > 0:\n",
        "                    states.append('흑자지속')\n",
        "                else:\n",
        "                    states.append('흑자전환')\n",
        "            else:\n",
        "                if pre_value > 0:\n",
        "                    states.append('적자전환')\n",
        "                else:\n",
        "                    states.append('적자지속')\n",
        "\n",
        "    data[col + \"_상태\"] = states\n",
        "    return data"
      ],
      "metadata": {
        "id": "EbYCXTJlbgWw"
      },
      "execution_count": null,
      "outputs": []
    },
    {
      "cell_type": "code",
      "source": [
        "add_finnce_state(df, \"매출액증가율\")\n",
        "add_finnce_state(df, \"영업이익증가율\")\n",
        "add_finnce_state(df, \"당기순이익증가율\")\n",
        "df"
      ],
      "metadata": {
        "id": "W-MY2Wy3iwZi"
      },
      "execution_count": null,
      "outputs": []
    },
    {
      "cell_type": "markdown",
      "source": [
        "# 여러 개의 데이터\n",
        "- 지금까지 작업한 내용을 함수로 정리\n",
        "- 9개 연도의 재무제표 데이터를 수집\n",
        "- 여러 회사의 데이터를 수집하고, `회사명` 컬럼 추가"
      ],
      "metadata": {
        "id": "xhQ8aR6pxi0c"
      }
    },
    {
      "cell_type": "code",
      "source": [
        "def get_clean_report(df):\n",
        "    ind_list = ['자산총계', '부채총계', '자본총계', '매출액', '영업이익', '당기순이익']\n",
        "    df = df.loc[df[\"account_nm\"].isin(ind_list), [\"bsns_year\", \"account_nm\", \"fs_nm\", \"thstrm_amount\", \"frmtrm_amount\", \"bfefrmtrm_amount\"]]\n",
        "    df = df[df['fs_nm'] == '연결재무제표']\n",
        "    year = df['bsns_year'].values[0]\n",
        "    df = df.rename(columns ={'thstrm_amount': year, 'frmtrm_amount': str(int(year)-1), 'bfefrmtrm_amount': str(int(year)-2)})\n",
        "    df = df.drop(['bsns_year', 'fs_nm'], axis=1)\n",
        "    df = df.set_index('account_nm').T.reset_index().rename(columns = {'index': '연도'})\n",
        "\n",
        "    for ind in ind_list:\n",
        "        df[ind] = df[ind].apply(lambda x: x.replace(',', '')).astype(float)\n",
        "\n",
        "    return df"
      ],
      "metadata": {
        "id": "CVCesA-JUJz_"
      },
      "execution_count": null,
      "outputs": []
    },
    {
      "cell_type": "code",
      "source": [
        "def add_new_column(df):\n",
        "    df = df.sort_values('연도')\n",
        "    df['부채비율'] = df['부채총계'] / df['자본총계'] * 100\n",
        "    df['매출액증가율'] = (df['매출액'].diff() / df['매출액'].shift(1)) * 100\n",
        "    df['영업이익증가율'] = (df['영업이익'].diff() / df['영업이익'].shift(1)) * 10\n",
        "    df['당기순이익증가율'] = (df['당기순이익'].diff() / df['당기순이익'].shift(1)) * 100\n",
        "    df['ROA'] = (df['당기순이익'] / df['자산총계']) * 100\n",
        "    average_equity = df['자본총계'].rolling(2).mean() # 평균 자기 자본\n",
        "    df['ROE'] = (df['당기순이익'] / average_equity) * 100\n",
        "\n",
        "    df= add_finnce_state(df, \"매출액증가율\")\n",
        "    df= add_finnce_state(df, \"영업이익증가율\")\n",
        "    df=add_finnce_state(df, \"당기순이익증가율\")\n",
        "\n",
        "    return df"
      ],
      "metadata": {
        "id": "eRLmk94nVvY1"
      },
      "execution_count": null,
      "outputs": []
    },
    {
      "cell_type": "code",
      "source": [
        "import pandas as pd\n",
        "year = [2023, 2020, 2017]\n",
        "for y in year:\n",
        "    _df = dart.finstate(\"삼성전자\", y)\n",
        "    clean_df = get_clean_report(_df)\n",
        "    try:\n",
        "        merged_df = pd.merge(merged_df, clean_df, how = 'outer')\n",
        "    except:\n",
        "        merged_df = clean_df\n",
        "merged_df"
      ],
      "metadata": {
        "id": "U6r-Vqnmi5Qa"
      },
      "execution_count": null,
      "outputs": []
    },
    {
      "cell_type": "code",
      "source": [
        "final_df = add_new_column(merged_df)\n",
        "final_df"
      ],
      "metadata": {
        "id": "hHJAfntEH2I5"
      },
      "execution_count": null,
      "outputs": []
    },
    {
      "cell_type": "code",
      "source": [
        "import seaborn as sns\n",
        "sns.lineplot(x = final_df['연도'], y= final_df['매출액'])"
      ],
      "metadata": {
        "id": "c2aDvP7yViAo"
      },
      "execution_count": null,
      "outputs": []
    },
    {
      "cell_type": "code",
      "source": [],
      "metadata": {
        "id": "ev7J5ZFOXf5-"
      },
      "execution_count": null,
      "outputs": []
    }
  ]
}
