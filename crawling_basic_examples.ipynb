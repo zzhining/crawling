{
  "nbformat": 4,
  "nbformat_minor": 0,
  "metadata": {
    "colab": {
      "private_outputs": true,
      "provenance": [],
      "toc_visible": true,
      "authorship_tag": "ABX9TyPFqo8UKDslIf7MOxMRQxoR",
      "include_colab_link": true
    },
    "kernelspec": {
      "name": "python3",
      "display_name": "Python 3"
    },
    "language_info": {
      "name": "python"
    }
  },
  "cells": [
    {
      "cell_type": "markdown",
      "metadata": {
        "id": "view-in-github",
        "colab_type": "text"
      },
      "source": [
        "<a href=\"https://colab.research.google.com/github/zzhining/crawling/blob/main/crawling_basic_examples.ipynb\" target=\"_parent\"><img src=\"https://colab.research.google.com/assets/colab-badge.svg\" alt=\"Open In Colab\"/></a>"
      ]
    },
    {
      "cell_type": "markdown",
      "source": [
        "# 구글 HTML 읽어오기"
      ],
      "metadata": {
        "id": "zBmuPsy_r8H4"
      }
    },
    {
      "cell_type": "code",
      "execution_count": null,
      "metadata": {
        "id": "Ilz_p2YLrVLt"
      },
      "outputs": [],
      "source": [
        "import requests\n",
        "\n",
        "url = 'https://www.google.com/'\n",
        "reponse = requests.get(url)"
      ]
    },
    {
      "cell_type": "code",
      "source": [
        "reponse.status_code"
      ],
      "metadata": {
        "id": "9YgOAitpsTED"
      },
      "execution_count": null,
      "outputs": []
    },
    {
      "cell_type": "code",
      "source": [
        "reponse.text"
      ],
      "metadata": {
        "id": "qjkQXvfbsZ1x"
      },
      "execution_count": null,
      "outputs": []
    },
    {
      "cell_type": "markdown",
      "source": [
        "# 네이버 키워드 검색 결과"
      ],
      "metadata": {
        "id": "Sw2zSkTRulBU"
      }
    },
    {
      "cell_type": "code",
      "source": [
        "#https://search.naver.com/search.naver?query=데이터분석\n",
        "url = 'https://search.naver.com/search.naver?query=%EB%8D%B0%EC%9D%B4%ED%84%B0%EB%B6%84%EC%84%9D'\n",
        "response = requests.get(url)\n",
        "response.text"
      ],
      "metadata": {
        "collapsed": true,
        "id": "mpBqQS_UsccA"
      },
      "execution_count": null,
      "outputs": []
    },
    {
      "cell_type": "markdown",
      "source": [
        "# 이미지 가져오기"
      ],
      "metadata": {
        "id": "77XLi4rJre5L"
      }
    },
    {
      "cell_type": "code",
      "source": [
        "url = 'https://www.google.com/images/branding/googlelogo/1x/googlelogo_light_color_272x92dp.png'\n",
        "\n",
        "response = requests.get(url)"
      ],
      "metadata": {
        "id": "1utV0Np9tEUM"
      },
      "execution_count": null,
      "outputs": []
    },
    {
      "cell_type": "code",
      "source": [
        "response.status_code"
      ],
      "metadata": {
        "id": "BHaJpr3chI_H"
      },
      "execution_count": null,
      "outputs": []
    },
    {
      "cell_type": "code",
      "source": [
        "from PIL import Image\n",
        "from io import BytesIO\n",
        "\n",
        "Image.open(BytesIO(response.content))"
      ],
      "metadata": {
        "id": "q9J0M0hthI8S"
      },
      "execution_count": null,
      "outputs": []
    },
    {
      "cell_type": "code",
      "source": [
        "import os\n",
        "name = os.path.basename(url)"
      ],
      "metadata": {
        "id": "gSctVimchI5p"
      },
      "execution_count": null,
      "outputs": []
    },
    {
      "cell_type": "code",
      "source": [
        "os.getcwd() #현재 작업 경로"
      ],
      "metadata": {
        "id": "0gjOS_qrl9G7"
      },
      "execution_count": null,
      "outputs": []
    },
    {
      "cell_type": "code",
      "source": [
        "folder = f'{os.getcwd()}/image'"
      ],
      "metadata": {
        "id": "eigALqkrhI3N"
      },
      "execution_count": null,
      "outputs": []
    },
    {
      "cell_type": "code",
      "source": [
        "# folder 경로가 없다면 folder 경로를 생성하기\n",
        "if not os.path.isdir(folder):\n",
        "    os.mkdir(folder)"
      ],
      "metadata": {
        "id": "ZECAVjyGhI0u"
      },
      "execution_count": null,
      "outputs": []
    },
    {
      "cell_type": "code",
      "source": [
        "image_path = os.path.join(folder, name)"
      ],
      "metadata": {
        "id": "Kh14cWWehIyH"
      },
      "execution_count": null,
      "outputs": []
    },
    {
      "cell_type": "code",
      "source": [
        "image = open(image_path, 'wb') #image_path를 wb 모드로 오픈"
      ],
      "metadata": {
        "id": "SpkwaDxphIdt"
      },
      "execution_count": null,
      "outputs": []
    },
    {
      "cell_type": "code",
      "source": [
        "image.write(response.content) # response.content를 image 객체에 쓰기"
      ],
      "metadata": {
        "id": "It0wCgPHm1pi"
      },
      "execution_count": null,
      "outputs": []
    },
    {
      "cell_type": "code",
      "source": [
        "image.close()"
      ],
      "metadata": {
        "id": "8SAlYDG1m1mz"
      },
      "execution_count": null,
      "outputs": []
    },
    {
      "cell_type": "markdown",
      "source": [
        "# 블로그 실습"
      ],
      "metadata": {
        "id": "gNNlQluWrhNs"
      }
    },
    {
      "cell_type": "code",
      "source": [
        "!curl -L -O https://raw.githubusercontent.com/zzhining/python_data_basic/main/5%EC%9E%A5/index.html"
      ],
      "metadata": {
        "id": "RVLPwFLFhIa6"
      },
      "execution_count": null,
      "outputs": []
    },
    {
      "cell_type": "code",
      "source": [
        "from bs4 import BeautifulSoup\n",
        "\n",
        "# requests 대신에 index.html 파일을 직접 읽어오기\n",
        "filename = \"index.html\"\n",
        "html = \"\"\n",
        "with open (filename, 'r', encoding='UTF-8') as file:\n",
        "    for line in file:\n",
        "        html += line\n",
        "html"
      ],
      "metadata": {
        "collapsed": true,
        "id": "661Btt6ym1kN"
      },
      "execution_count": null,
      "outputs": []
    },
    {
      "cell_type": "code",
      "source": [
        "soup = BeautifulSoup(html, 'lxml')"
      ],
      "metadata": {
        "id": "OaNO2mqbm1hv"
      },
      "execution_count": null,
      "outputs": []
    },
    {
      "cell_type": "code",
      "source": [
        "post_list = soup.find_all('div', {'class': \"post-preview\"})"
      ],
      "metadata": {
        "id": "oiD7OdSDm1fP"
      },
      "execution_count": null,
      "outputs": []
    },
    {
      "cell_type": "code",
      "source": [
        "title_list = []\n",
        "subtitle_list= []\n",
        "date_list = []\n",
        "\n",
        "for post in post_list:\n",
        "    title = post.find('h2', {'class':\"post-title\"}).text.strip()\n",
        "    subtitle = post.find('h3').text.strip()\n",
        "    date = post.find('p').text.strip()\n",
        "    title_list.append(title)\n",
        "    subtitle_list.append(subtitle)\n",
        "    date_list.append(date)"
      ],
      "metadata": {
        "id": "ze1r32efm1b3"
      },
      "execution_count": null,
      "outputs": []
    },
    {
      "cell_type": "code",
      "source": [
        "import pandas as pd\n",
        "df = pd.DataFrame({'title': title_list, 'subtitle': subtitle_list, 'date': date_list})\n",
        "df"
      ],
      "metadata": {
        "id": "hOxp75mysoja"
      },
      "execution_count": null,
      "outputs": []
    },
    {
      "cell_type": "markdown",
      "source": [
        "# 신문기사 스크랩"
      ],
      "metadata": {
        "id": "rLlhRJgjqkUU"
      }
    },
    {
      "cell_type": "code",
      "source": [
        "from bs4 import BeautifulSoup\n",
        "import requests\n",
        "\n",
        "url = 'https://n.news.naver.com/mnews/article/015/0005001712'\n",
        "response = requests.get(url)\n",
        "soup = BeautifulSoup(response.text, 'lxml')\n",
        "soup.find('div', {'class': 'newsct_article _article_body'}).text"
      ],
      "metadata": {
        "id": "3GKjT5MihOIX",
        "collapsed": true
      },
      "execution_count": null,
      "outputs": []
    }
  ]
}